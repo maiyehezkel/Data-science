{
  "nbformat": 4,
  "nbformat_minor": 0,
  "metadata": {
    "colab": {
      "name": "Untitled0.ipynb",
      "provenance": [],
      "authorship_tag": "ABX9TyN7vgXkVeJ27zKvoaCtLnoq",
      "include_colab_link": true
    },
    "kernelspec": {
      "name": "python3",
      "display_name": "Python 3"
    },
    "language_info": {
      "name": "python"
    }
  },
  "cells": [
    {
      "cell_type": "markdown",
      "metadata": {
        "id": "view-in-github",
        "colab_type": "text"
      },
      "source": [
        "<a href=\"https://colab.research.google.com/github/maiyehezkel/Data-science/blob/main/names_database.ipynb\" target=\"_parent\"><img src=\"https://colab.research.google.com/assets/colab-badge.svg\" alt=\"Open In Colab\"/></a>"
      ]
    },
    {
      "cell_type": "code",
      "metadata": {
        "id": "YXGhurJIYBlT"
      },
      "source": [
        ""
      ],
      "execution_count": null,
      "outputs": []
    },
    {
      "cell_type": "code",
      "metadata": {
        "colab": {
          "base_uri": "https://localhost:8080/",
          "height": 50
        },
        "id": "DCt_hsfIJKbC",
        "outputId": "d15ee7a7-862c-424f-90a2-50eb34d23671"
      },
      "source": [
        "from bs4 import BeautifulSoup\n",
        "from google.colab import files\n",
        "import requests\n",
        "import csv\n",
        "\n",
        "country=[\"african\",\"akkadian\",\"albanian\",\"anglo_saxon\",\"arabian\",\"aramic\",\"aremenian\",\"arthurian_legend\",\"assyrian\",\"nahuatl\",\"babylonian\",\"basque\",\"bulgarian\",\"celtic\",\"chamoru\",\"chinese\",\"cornish\",\"croatian\",\"czechoslovakian\",\"denish\",\"dutch\",\"egtptian\",\"english\",\"esperanto\",\"finish\",\"french\",\"gaelic\",\"german\",\"greek\",\"hawaiian\",\"hebrew\",\"hindi\",\"hungarian\",\"icelandic\",\"irish\",\"italian\",\"japanese\",\"korean\",\"latin\",\"lithuania\",\"native_american\",\"norse\",\"norwegian\",\"persian\",\"polish\",\"portuguese\",\"romanian\",\"russian\",\"scandinavian\",\"scottish\",\"serbian\",\"slavic\",\"slovene\",\"spanish\",\"swedish\",\"swiss\",\"teutonic\",\"thai\",\"turkish\",\"ukrainian\",\"vietnamese\",\"welsh\",\"yiddish\"]\n",
        "gender=[\"female\",\"male\"]\n",
        "names_dataBase=open('names_description.csv','w')\n",
        "writer = csv.writer(names_dataBase)\n",
        "lang_database=open('names_other_languages.csv','w')\n",
        "writerlang = csv.writer(lang_database)\n",
        "writer.writerow([\"Name\",\"Meaning\",\"Gender\",\"Location\"])\n",
        "writerlang.writerow([\"Original name\",\"Name in other language\",\"Language\",\"Location\"])\n",
        "\n",
        "for i in range(len(country)):\n",
        "    for j in range(len(gender)):\n",
        "      url = \"http://www.20000-names.com/\"+gender[j]+\"_\"+country[i]+\"_names.htm\"\n",
        "      result = requests.get(url)\n",
        "      doc = BeautifulSoup(result.text, \"html.parser\")\n",
        "      database = doc.find_all('li')\n",
        "      for li in database:\n",
        "        fulllist1=[]\n",
        "        fulllist2=[]\n",
        "        data=li.text\n",
        "        dataClean= data.strip()\n",
        "        dataClean2 = dataClean.replace(\"\\r\",\"\").replace(\"\\n\",\"\").replace(\"'\",\"\").replace(\", or,\",\"/\").replace(\":\",\",\").replace(\".\",\",\")\n",
        "        listofnm= dataClean2.rsplit(\",\")\n",
        "        nameClean= listofnm[0].split(\":\",0)\n",
        "        fullname= nameClean[0].split(\"(\",1)\n",
        "        onlyname= fullname[0]\n",
        "        fulllist1.append(onlyname.strip())\n",
        "        if(len(fullname)==2):\n",
        "          originalname=fullname[1].replace(\")\",\"\")\n",
        "          fulllist2.append(onlyname.strip())\n",
        "          fulllist2.append(originalname.strip())\n",
        "          fulllist2.append(country[i])\n",
        "          writerlang.writerow(fulllist2)\n",
        "        meaning=listofnm[1].split(\"meaning\")\n",
        "        if(len(meaning)>=2):\n",
        "          fulllist1.append(meaning[1].strip().replace('\"','').replace(\"     \",\"\"))\n",
        "        else:\n",
        "          fulllist1.append(meaning[0].strip().replace('\"','').replace(\"     \",\"\"))\n",
        "        fulllist1.append(gender[j])\n",
        "        fulllist1.append(country[i])\n",
        "        writer.writerow(fulllist1)\n",
        "names_dataBase.close()\n",
        "lang_database.close()\n",
        "files.download('names_description.csv')\n",
        "files.download('names_other_languages.csv')\n",
        "\n",
        "\n",
        "\n"
      ],
      "execution_count": null,
      "outputs": [
        {
          "output_type": "display_data",
          "data": {
            "application/javascript": [
              "\n",
              "    async function download(id, filename, size) {\n",
              "      if (!google.colab.kernel.accessAllowed) {\n",
              "        return;\n",
              "      }\n",
              "      const div = document.createElement('div');\n",
              "      const label = document.createElement('label');\n",
              "      label.textContent = `Downloading \"${filename}\": `;\n",
              "      div.appendChild(label);\n",
              "      const progress = document.createElement('progress');\n",
              "      progress.max = size;\n",
              "      div.appendChild(progress);\n",
              "      document.body.appendChild(div);\n",
              "\n",
              "      const buffers = [];\n",
              "      let downloaded = 0;\n",
              "\n",
              "      const channel = await google.colab.kernel.comms.open(id);\n",
              "      // Send a message to notify the kernel that we're ready.\n",
              "      channel.send({})\n",
              "\n",
              "      for await (const message of channel.messages) {\n",
              "        // Send a message to notify the kernel that we're ready.\n",
              "        channel.send({})\n",
              "        if (message.buffers) {\n",
              "          for (const buffer of message.buffers) {\n",
              "            buffers.push(buffer);\n",
              "            downloaded += buffer.byteLength;\n",
              "            progress.value = downloaded;\n",
              "          }\n",
              "        }\n",
              "      }\n",
              "      const blob = new Blob(buffers, {type: 'application/binary'});\n",
              "      const a = document.createElement('a');\n",
              "      a.href = window.URL.createObjectURL(blob);\n",
              "      a.download = filename;\n",
              "      div.appendChild(a);\n",
              "      a.click();\n",
              "      div.remove();\n",
              "    }\n",
              "  "
            ],
            "text/plain": [
              "<IPython.core.display.Javascript object>"
            ]
          },
          "metadata": {}
        },
        {
          "output_type": "display_data",
          "data": {
            "application/javascript": [
              "download(\"download_877c714f-86d0-4765-805c-e0fde5e1b3ce\", \"names_description.csv\", 540087)"
            ],
            "text/plain": [
              "<IPython.core.display.Javascript object>"
            ]
          },
          "metadata": {}
        },
        {
          "output_type": "display_data",
          "data": {
            "application/javascript": [
              "\n",
              "    async function download(id, filename, size) {\n",
              "      if (!google.colab.kernel.accessAllowed) {\n",
              "        return;\n",
              "      }\n",
              "      const div = document.createElement('div');\n",
              "      const label = document.createElement('label');\n",
              "      label.textContent = `Downloading \"${filename}\": `;\n",
              "      div.appendChild(label);\n",
              "      const progress = document.createElement('progress');\n",
              "      progress.max = size;\n",
              "      div.appendChild(progress);\n",
              "      document.body.appendChild(div);\n",
              "\n",
              "      const buffers = [];\n",
              "      let downloaded = 0;\n",
              "\n",
              "      const channel = await google.colab.kernel.comms.open(id);\n",
              "      // Send a message to notify the kernel that we're ready.\n",
              "      channel.send({})\n",
              "\n",
              "      for await (const message of channel.messages) {\n",
              "        // Send a message to notify the kernel that we're ready.\n",
              "        channel.send({})\n",
              "        if (message.buffers) {\n",
              "          for (const buffer of message.buffers) {\n",
              "            buffers.push(buffer);\n",
              "            downloaded += buffer.byteLength;\n",
              "            progress.value = downloaded;\n",
              "          }\n",
              "        }\n",
              "      }\n",
              "      const blob = new Blob(buffers, {type: 'application/binary'});\n",
              "      const a = document.createElement('a');\n",
              "      a.href = window.URL.createObjectURL(blob);\n",
              "      a.download = filename;\n",
              "      div.appendChild(a);\n",
              "      a.click();\n",
              "      div.remove();\n",
              "    }\n",
              "  "
            ],
            "text/plain": [
              "<IPython.core.display.Javascript object>"
            ]
          },
          "metadata": {}
        },
        {
          "output_type": "display_data",
          "data": {
            "application/javascript": [
              "download(\"download_84d7c15e-149a-4d17-aa7b-7365e53b6bac\", \"names_other_languages.csv\", 49583)"
            ],
            "text/plain": [
              "<IPython.core.display.Javascript object>"
            ]
          },
          "metadata": {}
        }
      ]
    }
  ]
}