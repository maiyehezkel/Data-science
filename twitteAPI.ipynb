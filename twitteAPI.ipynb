{
  "nbformat": 4,
  "nbformat_minor": 0,
  "metadata": {
    "colab": {
      "name": "twitterex1.ipynb",
      "provenance": [],
      "authorship_tag": "ABX9TyMUMnGuriD1agdd/i8UfALc",
      "include_colab_link": true
    },
    "kernelspec": {
      "name": "python3",
      "display_name": "Python 3"
    },
    "language_info": {
      "name": "python"
    }
  },
  "cells": [
    {
      "cell_type": "markdown",
      "metadata": {
        "id": "view-in-github",
        "colab_type": "text"
      },
      "source": [
        "<a href=\"https://colab.research.google.com/github/maiyehezkel/Data-science/blob/main/twitteAPI.ipynb\" target=\"_parent\"><img src=\"https://colab.research.google.com/assets/colab-badge.svg\" alt=\"Open In Colab\"/></a>"
      ]
    },
    {
      "cell_type": "code",
      "metadata": {
        "id": "MhvFLEHZWwM4"
      },
      "source": [
        "import os\n",
        "import tweepy \n",
        "import pandas as pd\n",
        "from google.colab import files"
      ],
      "execution_count": 14,
      "outputs": []
    },
    {
      "cell_type": "code",
      "metadata": {
        "id": "7jtuVp95W68D"
      },
      "source": [
        "consumer_key= 'hhs5gGtAd0R9YHMULqQRaw9ny'\n",
        "consumer_secret= 'AhRjDA9x4A9ojEgsTkK0VtyMkyZpjW2W6W1wEvEOXcse3MWqFM'\n",
        "access_token= '894842018-Z7japg7oRghpuAkoBpn9dasIQbBj6RZTpFLUU0c8'\n",
        "access_token_secret= 'WnwHZkXzeVGFGuuFYf26vwt6VtwCbOiVZpgWPZ1CKT5Xo'"
      ],
      "execution_count": 3,
      "outputs": []
    },
    {
      "cell_type": "code",
      "metadata": {
        "id": "6cKYD0N0W86P"
      },
      "source": [
        "# Authenticate to Twitter\n",
        "auth = tweepy.OAuthHandler(consumer_key, consumer_secret)\n",
        "auth.set_access_token(access_token, access_token_secret)\n",
        "\n",
        "# Create API object\n",
        "api = tweepy.API(auth, wait_on_rate_limit=True)\n"
      ],
      "execution_count": 4,
      "outputs": []
    },
    {
      "cell_type": "code",
      "metadata": {
        "id": "WQqxxV7CY9jm"
      },
      "source": [
        "def convert_tweet_to_tuple(tweet,exp):\n",
        "  content = tweet.text\n",
        "  tweets= (content,exp)\n",
        "\n",
        "  return tweets\n",
        "\n",
        "\n",
        "def convert_user_to_tuple(tweet):\n",
        "  author_id = tweet.author.id\n",
        "  screen_name = tweet.author.screen_name\n",
        "  full_name = tweet.author.name\n",
        "\n",
        "  author = (author_id, screen_name, full_name)\n",
        "  return author"
      ],
      "execution_count": 5,
      "outputs": []
    },
    {
      "cell_type": "code",
      "metadata": {
        "id": "O0OU8varXEQo"
      },
      "source": [
        "# Collect tweets\n",
        "exp=['climate change crisis','champions League', 'the witcher']\n",
        "post_tuples = []\n",
        "author_tuples = []\n",
        "for i in range(len(exp)):\n",
        "  tweets = tweepy.Cursor(api.search,\n",
        "              exp[i]).items(100)\n",
        "  for tweet in tweets:\n",
        "  \n",
        "    post_tuple = convert_tweet_to_tuple(tweet,exp[i])\n",
        "    post_tuples.append(post_tuple)\n",
        "\n",
        "    author_tuple = convert_user_to_tuple(tweet)\n",
        "    author_tuples.append(author_tuple)\n",
        " \n"
      ],
      "execution_count": null,
      "outputs": []
    },
    {
      "cell_type": "code",
      "metadata": {
        "colab": {
          "base_uri": "https://localhost:8080/",
          "height": 17
        },
        "id": "s61Bo7sWvOlR",
        "outputId": "1ca3571b-c475-4330-f76d-88cc8e57cf76"
      },
      "source": [
        "tweets_df = pd.DataFrame(post_tuples, columns=['tweet_text', 'exp'])\n",
        "tweets_df\n",
        "tweets_df.to_csv('Tweets.csv')\n",
        "files.download('Tweets.csv')"
      ],
      "execution_count": 16,
      "outputs": [
        {
          "output_type": "display_data",
          "data": {
            "application/javascript": [
              "\n",
              "    async function download(id, filename, size) {\n",
              "      if (!google.colab.kernel.accessAllowed) {\n",
              "        return;\n",
              "      }\n",
              "      const div = document.createElement('div');\n",
              "      const label = document.createElement('label');\n",
              "      label.textContent = `Downloading \"${filename}\": `;\n",
              "      div.appendChild(label);\n",
              "      const progress = document.createElement('progress');\n",
              "      progress.max = size;\n",
              "      div.appendChild(progress);\n",
              "      document.body.appendChild(div);\n",
              "\n",
              "      const buffers = [];\n",
              "      let downloaded = 0;\n",
              "\n",
              "      const channel = await google.colab.kernel.comms.open(id);\n",
              "      // Send a message to notify the kernel that we're ready.\n",
              "      channel.send({})\n",
              "\n",
              "      for await (const message of channel.messages) {\n",
              "        // Send a message to notify the kernel that we're ready.\n",
              "        channel.send({})\n",
              "        if (message.buffers) {\n",
              "          for (const buffer of message.buffers) {\n",
              "            buffers.push(buffer);\n",
              "            downloaded += buffer.byteLength;\n",
              "            progress.value = downloaded;\n",
              "          }\n",
              "        }\n",
              "      }\n",
              "      const blob = new Blob(buffers, {type: 'application/binary'});\n",
              "      const a = document.createElement('a');\n",
              "      a.href = window.URL.createObjectURL(blob);\n",
              "      a.download = filename;\n",
              "      div.appendChild(a);\n",
              "      a.click();\n",
              "      div.remove();\n",
              "    }\n",
              "  "
            ],
            "text/plain": [
              "<IPython.core.display.Javascript object>"
            ]
          },
          "metadata": {}
        },
        {
          "output_type": "display_data",
          "data": {
            "application/javascript": [
              "download(\"download_9174be4a-3b7e-4438-84fb-76344ae34561\", \"Tweets.csv\", 49888)"
            ],
            "text/plain": [
              "<IPython.core.display.Javascript object>"
            ]
          },
          "metadata": {}
        }
      ]
    },
    {
      "cell_type": "code",
      "metadata": {
        "colab": {
          "base_uri": "https://localhost:8080/",
          "height": 17
        },
        "id": "zZddoBdQwZto",
        "outputId": "d959057f-af36-499a-cddb-c2c6d2c905b0"
      },
      "source": [
        "author_df = pd.DataFrame(author_tuples,columns=['author id','author name', 'author screen name'])\n",
        "author_df\n",
        "author_df.to_csv('Authors.csv')\n",
        "files.download('Authors.csv')"
      ],
      "execution_count": 15,
      "outputs": [
        {
          "output_type": "display_data",
          "data": {
            "application/javascript": [
              "\n",
              "    async function download(id, filename, size) {\n",
              "      if (!google.colab.kernel.accessAllowed) {\n",
              "        return;\n",
              "      }\n",
              "      const div = document.createElement('div');\n",
              "      const label = document.createElement('label');\n",
              "      label.textContent = `Downloading \"${filename}\": `;\n",
              "      div.appendChild(label);\n",
              "      const progress = document.createElement('progress');\n",
              "      progress.max = size;\n",
              "      div.appendChild(progress);\n",
              "      document.body.appendChild(div);\n",
              "\n",
              "      const buffers = [];\n",
              "      let downloaded = 0;\n",
              "\n",
              "      const channel = await google.colab.kernel.comms.open(id);\n",
              "      // Send a message to notify the kernel that we're ready.\n",
              "      channel.send({})\n",
              "\n",
              "      for await (const message of channel.messages) {\n",
              "        // Send a message to notify the kernel that we're ready.\n",
              "        channel.send({})\n",
              "        if (message.buffers) {\n",
              "          for (const buffer of message.buffers) {\n",
              "            buffers.push(buffer);\n",
              "            downloaded += buffer.byteLength;\n",
              "            progress.value = downloaded;\n",
              "          }\n",
              "        }\n",
              "      }\n",
              "      const blob = new Blob(buffers, {type: 'application/binary'});\n",
              "      const a = document.createElement('a');\n",
              "      a.href = window.URL.createObjectURL(blob);\n",
              "      a.download = filename;\n",
              "      div.appendChild(a);\n",
              "      a.click();\n",
              "      div.remove();\n",
              "    }\n",
              "  "
            ],
            "text/plain": [
              "<IPython.core.display.Javascript object>"
            ]
          },
          "metadata": {}
        },
        {
          "output_type": "display_data",
          "data": {
            "application/javascript": [
              "download(\"download_06dbafbb-034d-4e7f-8312-919607ab09fd\", \"Authors.csv\", 14260)"
            ],
            "text/plain": [
              "<IPython.core.display.Javascript object>"
            ]
          },
          "metadata": {}
        }
      ]
    },
    {
      "cell_type": "code",
      "metadata": {
        "id": "uqyaxky5xJzV"
      },
      "source": [
        ""
      ],
      "execution_count": null,
      "outputs": []
    }
  ]
}